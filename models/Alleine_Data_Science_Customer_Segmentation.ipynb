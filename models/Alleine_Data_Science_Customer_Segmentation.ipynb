{
 "cells": [
  {
   "cell_type": "code",
   "metadata": {
    "_cell_guid": "b1076dfc-b9ad-4769-8c92-a6c4dae69d19",
    "_uuid": "8f2839f25d086af736a60e9eeb907d3b93b6e0e5",
    "id": "IW15_QMWlbnC",
    "ExecuteTime": {
     "end_time": "2024-06-03T15:55:23.611463Z",
     "start_time": "2024-06-03T15:55:23.608251Z"
    }
   },
   "source": [
    "import os\n",
    "import mlflow\n",
    "\n",
    "mlflow.set_tracking_uri(uri=\"http://127.0.0.1:8080\")\n",
    "from mlflow.models import infer_signature\n",
    "\n",
    "import numpy as np # linear algebra\n",
    "import pandas as pd # data processing, CSV file I/O (e.g. pd.read_csv)\n",
    "pd.set_option('future.no_silent_downcasting', True)\n",
    "import seaborn as sns\n",
    "import matplotlib.pyplot as plt\n",
    "from sklearn.preprocessing import MaxAbsScaler\n",
    "from mlflow import log_metric, log_param, log_artifacts\n",
    "\n",
    "from sklearn.cluster import KMeans, DBSCAN\n",
    "from sklearn.metrics import silhouette_score, davies_bouldin_score\n",
    "from sklearn.neighbors import NearestNeighbors\n",
    "import itertools\n",
    "\n",
    "# Input data files are available in the read-only \"../input/\" directory\n",
    "# For example, running this (by clicking run or pressing Shift+Enter) will list all files under the input director\n",
    "\n",
    "# You can write up to 20GB to the current directory (/kaggle/working/) that gets preserved as output when you create a version using \"Save & Run All\"\n",
    "# You can also write temporary files to /kaggle/temp/, but they won't be saved outside of the current session"
   ],
   "outputs": [],
   "execution_count": 91
  },
  {
   "cell_type": "code",
   "metadata": {
    "colab": {
     "base_uri": "https://localhost:8080/",
     "height": 274
    },
    "id": "eIpH4f6jlbnD",
    "outputId": "c59f9637-08c6-4849-b7e2-7258ae2cb48f",
    "ExecuteTime": {
     "end_time": "2024-06-03T15:55:23.885180Z",
     "start_time": "2024-06-03T15:55:23.871745Z"
    }
   },
   "source": [
    "data = pd.read_csv(\"data/marketing_campaign.csv\", sep=\"\\t\")\n",
    "print(\"Number of datapoints:\", len(data))\n",
    "data.head()"
   ],
   "outputs": [
    {
     "name": "stdout",
     "output_type": "stream",
     "text": [
      "Number of datapoints: 2240\n"
     ]
    },
    {
     "data": {
      "text/plain": [
       "     ID  Year_Birth   Education Marital_Status   Income  Kidhome  Teenhome  \\\n",
       "0  5524        1957  Graduation         Single  58138.0        0         0   \n",
       "1  2174        1954  Graduation         Single  46344.0        1         1   \n",
       "2  4141        1965  Graduation       Together  71613.0        0         0   \n",
       "3  6182        1984  Graduation       Together  26646.0        1         0   \n",
       "4  5324        1981         PhD        Married  58293.0        1         0   \n",
       "\n",
       "  Dt_Customer  Recency  MntWines  ...  NumWebVisitsMonth  AcceptedCmp3  \\\n",
       "0  04-09-2012       58       635  ...                  7             0   \n",
       "1  08-03-2014       38        11  ...                  5             0   \n",
       "2  21-08-2013       26       426  ...                  4             0   \n",
       "3  10-02-2014       26        11  ...                  6             0   \n",
       "4  19-01-2014       94       173  ...                  5             0   \n",
       "\n",
       "   AcceptedCmp4  AcceptedCmp5  AcceptedCmp1  AcceptedCmp2  Complain  \\\n",
       "0             0             0             0             0         0   \n",
       "1             0             0             0             0         0   \n",
       "2             0             0             0             0         0   \n",
       "3             0             0             0             0         0   \n",
       "4             0             0             0             0         0   \n",
       "\n",
       "   Z_CostContact  Z_Revenue  Response  \n",
       "0              3         11         1  \n",
       "1              3         11         0  \n",
       "2              3         11         0  \n",
       "3              3         11         0  \n",
       "4              3         11         0  \n",
       "\n",
       "[5 rows x 29 columns]"
      ],
      "text/html": [
       "<div>\n",
       "<style scoped>\n",
       "    .dataframe tbody tr th:only-of-type {\n",
       "        vertical-align: middle;\n",
       "    }\n",
       "\n",
       "    .dataframe tbody tr th {\n",
       "        vertical-align: top;\n",
       "    }\n",
       "\n",
       "    .dataframe thead th {\n",
       "        text-align: right;\n",
       "    }\n",
       "</style>\n",
       "<table border=\"1\" class=\"dataframe\">\n",
       "  <thead>\n",
       "    <tr style=\"text-align: right;\">\n",
       "      <th></th>\n",
       "      <th>ID</th>\n",
       "      <th>Year_Birth</th>\n",
       "      <th>Education</th>\n",
       "      <th>Marital_Status</th>\n",
       "      <th>Income</th>\n",
       "      <th>Kidhome</th>\n",
       "      <th>Teenhome</th>\n",
       "      <th>Dt_Customer</th>\n",
       "      <th>Recency</th>\n",
       "      <th>MntWines</th>\n",
       "      <th>...</th>\n",
       "      <th>NumWebVisitsMonth</th>\n",
       "      <th>AcceptedCmp3</th>\n",
       "      <th>AcceptedCmp4</th>\n",
       "      <th>AcceptedCmp5</th>\n",
       "      <th>AcceptedCmp1</th>\n",
       "      <th>AcceptedCmp2</th>\n",
       "      <th>Complain</th>\n",
       "      <th>Z_CostContact</th>\n",
       "      <th>Z_Revenue</th>\n",
       "      <th>Response</th>\n",
       "    </tr>\n",
       "  </thead>\n",
       "  <tbody>\n",
       "    <tr>\n",
       "      <th>0</th>\n",
       "      <td>5524</td>\n",
       "      <td>1957</td>\n",
       "      <td>Graduation</td>\n",
       "      <td>Single</td>\n",
       "      <td>58138.0</td>\n",
       "      <td>0</td>\n",
       "      <td>0</td>\n",
       "      <td>04-09-2012</td>\n",
       "      <td>58</td>\n",
       "      <td>635</td>\n",
       "      <td>...</td>\n",
       "      <td>7</td>\n",
       "      <td>0</td>\n",
       "      <td>0</td>\n",
       "      <td>0</td>\n",
       "      <td>0</td>\n",
       "      <td>0</td>\n",
       "      <td>0</td>\n",
       "      <td>3</td>\n",
       "      <td>11</td>\n",
       "      <td>1</td>\n",
       "    </tr>\n",
       "    <tr>\n",
       "      <th>1</th>\n",
       "      <td>2174</td>\n",
       "      <td>1954</td>\n",
       "      <td>Graduation</td>\n",
       "      <td>Single</td>\n",
       "      <td>46344.0</td>\n",
       "      <td>1</td>\n",
       "      <td>1</td>\n",
       "      <td>08-03-2014</td>\n",
       "      <td>38</td>\n",
       "      <td>11</td>\n",
       "      <td>...</td>\n",
       "      <td>5</td>\n",
       "      <td>0</td>\n",
       "      <td>0</td>\n",
       "      <td>0</td>\n",
       "      <td>0</td>\n",
       "      <td>0</td>\n",
       "      <td>0</td>\n",
       "      <td>3</td>\n",
       "      <td>11</td>\n",
       "      <td>0</td>\n",
       "    </tr>\n",
       "    <tr>\n",
       "      <th>2</th>\n",
       "      <td>4141</td>\n",
       "      <td>1965</td>\n",
       "      <td>Graduation</td>\n",
       "      <td>Together</td>\n",
       "      <td>71613.0</td>\n",
       "      <td>0</td>\n",
       "      <td>0</td>\n",
       "      <td>21-08-2013</td>\n",
       "      <td>26</td>\n",
       "      <td>426</td>\n",
       "      <td>...</td>\n",
       "      <td>4</td>\n",
       "      <td>0</td>\n",
       "      <td>0</td>\n",
       "      <td>0</td>\n",
       "      <td>0</td>\n",
       "      <td>0</td>\n",
       "      <td>0</td>\n",
       "      <td>3</td>\n",
       "      <td>11</td>\n",
       "      <td>0</td>\n",
       "    </tr>\n",
       "    <tr>\n",
       "      <th>3</th>\n",
       "      <td>6182</td>\n",
       "      <td>1984</td>\n",
       "      <td>Graduation</td>\n",
       "      <td>Together</td>\n",
       "      <td>26646.0</td>\n",
       "      <td>1</td>\n",
       "      <td>0</td>\n",
       "      <td>10-02-2014</td>\n",
       "      <td>26</td>\n",
       "      <td>11</td>\n",
       "      <td>...</td>\n",
       "      <td>6</td>\n",
       "      <td>0</td>\n",
       "      <td>0</td>\n",
       "      <td>0</td>\n",
       "      <td>0</td>\n",
       "      <td>0</td>\n",
       "      <td>0</td>\n",
       "      <td>3</td>\n",
       "      <td>11</td>\n",
       "      <td>0</td>\n",
       "    </tr>\n",
       "    <tr>\n",
       "      <th>4</th>\n",
       "      <td>5324</td>\n",
       "      <td>1981</td>\n",
       "      <td>PhD</td>\n",
       "      <td>Married</td>\n",
       "      <td>58293.0</td>\n",
       "      <td>1</td>\n",
       "      <td>0</td>\n",
       "      <td>19-01-2014</td>\n",
       "      <td>94</td>\n",
       "      <td>173</td>\n",
       "      <td>...</td>\n",
       "      <td>5</td>\n",
       "      <td>0</td>\n",
       "      <td>0</td>\n",
       "      <td>0</td>\n",
       "      <td>0</td>\n",
       "      <td>0</td>\n",
       "      <td>0</td>\n",
       "      <td>3</td>\n",
       "      <td>11</td>\n",
       "      <td>0</td>\n",
       "    </tr>\n",
       "  </tbody>\n",
       "</table>\n",
       "<p>5 rows × 29 columns</p>\n",
       "</div>"
      ]
     },
     "execution_count": 92,
     "metadata": {},
     "output_type": "execute_result"
    }
   ],
   "execution_count": 92
  },
  {
   "cell_type": "code",
   "metadata": {
    "colab": {
     "base_uri": "https://localhost:8080/"
    },
    "id": "71IQXE1dlbnE",
    "outputId": "7f410445-d1fa-4b16-f095-5a59ae2607aa",
    "ExecuteTime": {
     "end_time": "2024-06-03T15:55:24.132174Z",
     "start_time": "2024-06-03T15:55:24.128405Z"
    }
   },
   "source": [
    "data.info()"
   ],
   "outputs": [
    {
     "name": "stdout",
     "output_type": "stream",
     "text": [
      "<class 'pandas.core.frame.DataFrame'>\n",
      "RangeIndex: 2240 entries, 0 to 2239\n",
      "Data columns (total 29 columns):\n",
      " #   Column               Non-Null Count  Dtype  \n",
      "---  ------               --------------  -----  \n",
      " 0   ID                   2240 non-null   int64  \n",
      " 1   Year_Birth           2240 non-null   int64  \n",
      " 2   Education            2240 non-null   object \n",
      " 3   Marital_Status       2240 non-null   object \n",
      " 4   Income               2216 non-null   float64\n",
      " 5   Kidhome              2240 non-null   int64  \n",
      " 6   Teenhome             2240 non-null   int64  \n",
      " 7   Dt_Customer          2240 non-null   object \n",
      " 8   Recency              2240 non-null   int64  \n",
      " 9   MntWines             2240 non-null   int64  \n",
      " 10  MntFruits            2240 non-null   int64  \n",
      " 11  MntMeatProducts      2240 non-null   int64  \n",
      " 12  MntFishProducts      2240 non-null   int64  \n",
      " 13  MntSweetProducts     2240 non-null   int64  \n",
      " 14  MntGoldProds         2240 non-null   int64  \n",
      " 15  NumDealsPurchases    2240 non-null   int64  \n",
      " 16  NumWebPurchases      2240 non-null   int64  \n",
      " 17  NumCatalogPurchases  2240 non-null   int64  \n",
      " 18  NumStorePurchases    2240 non-null   int64  \n",
      " 19  NumWebVisitsMonth    2240 non-null   int64  \n",
      " 20  AcceptedCmp3         2240 non-null   int64  \n",
      " 21  AcceptedCmp4         2240 non-null   int64  \n",
      " 22  AcceptedCmp5         2240 non-null   int64  \n",
      " 23  AcceptedCmp1         2240 non-null   int64  \n",
      " 24  AcceptedCmp2         2240 non-null   int64  \n",
      " 25  Complain             2240 non-null   int64  \n",
      " 26  Z_CostContact        2240 non-null   int64  \n",
      " 27  Z_Revenue            2240 non-null   int64  \n",
      " 28  Response             2240 non-null   int64  \n",
      "dtypes: float64(1), int64(25), object(3)\n",
      "memory usage: 507.6+ KB\n"
     ]
    }
   ],
   "execution_count": 93
  },
  {
   "cell_type": "markdown",
   "metadata": {
    "id": "y0Pm0hV2lbnF"
   },
   "source": [
    "Income has Null values - Delete these coloumns"
   ]
  },
  {
   "cell_type": "code",
   "metadata": {
    "colab": {
     "base_uri": "https://localhost:8080/"
    },
    "id": "4wOUWJqjlbnH",
    "outputId": "30f702b8-8637-421c-8c76-af9c6a01ae5e",
    "ExecuteTime": {
     "end_time": "2024-06-03T15:55:24.751551Z",
     "start_time": "2024-06-03T15:55:24.746627Z"
    }
   },
   "source": [
    "index_to_drop = data['Income'].idxmax()\n",
    "print(data.iloc[index_to_drop])\n",
    "# Drop the row with the highest income\n",
    "data.drop(index_to_drop, inplace=True)"
   ],
   "outputs": [
    {
     "name": "stdout",
     "output_type": "stream",
     "text": [
      "ID                           9432\n",
      "Year_Birth                   1977\n",
      "Education              Graduation\n",
      "Marital_Status           Together\n",
      "Income                   666666.0\n",
      "Kidhome                         1\n",
      "Teenhome                        0\n",
      "Dt_Customer            02-06-2013\n",
      "Recency                        23\n",
      "MntWines                        9\n",
      "MntFruits                      14\n",
      "MntMeatProducts                18\n",
      "MntFishProducts                 8\n",
      "MntSweetProducts                1\n",
      "MntGoldProds                   12\n",
      "NumDealsPurchases               4\n",
      "NumWebPurchases                 3\n",
      "NumCatalogPurchases             1\n",
      "NumStorePurchases               3\n",
      "NumWebVisitsMonth               6\n",
      "AcceptedCmp3                    0\n",
      "AcceptedCmp4                    0\n",
      "AcceptedCmp5                    0\n",
      "AcceptedCmp1                    0\n",
      "AcceptedCmp2                    0\n",
      "Complain                        0\n",
      "Z_CostContact                   3\n",
      "Z_Revenue                      11\n",
      "Response                        0\n",
      "Name: 2233, dtype: object\n"
     ]
    }
   ],
   "execution_count": 94
  },
  {
   "cell_type": "code",
   "metadata": {
    "colab": {
     "base_uri": "https://localhost:8080/"
    },
    "id": "mwoMiOf0lbnJ",
    "outputId": "c370a8c1-7761-47a0-a628-6f757cdbf22a",
    "ExecuteTime": {
     "end_time": "2024-06-03T15:55:25.071482Z",
     "start_time": "2024-06-03T15:55:25.068055Z"
    }
   },
   "source": [
    "print(\"Total categories in the feature Marital_Status:\\n\", data[\"Marital_Status\"].value_counts(), \"\\n\")\n",
    "print(\"Total categories in the feature Education:\\n\", data[\"Education\"].value_counts())"
   ],
   "outputs": [
    {
     "name": "stdout",
     "output_type": "stream",
     "text": [
      "Total categories in the feature Marital_Status:\n",
      " Marital_Status\n",
      "Married     864\n",
      "Together    579\n",
      "Single      480\n",
      "Divorced    232\n",
      "Widow        77\n",
      "Alone         3\n",
      "Absurd        2\n",
      "YOLO          2\n",
      "Name: count, dtype: int64 \n",
      "\n",
      "Total categories in the feature Education:\n",
      " Education\n",
      "Graduation    1126\n",
      "PhD            486\n",
      "Master         370\n",
      "2n Cycle       203\n",
      "Basic           54\n",
      "Name: count, dtype: int64\n"
     ]
    }
   ],
   "execution_count": 95
  },
  {
   "cell_type": "markdown",
   "metadata": {
    "id": "-XFGsZ0DlbnN"
   },
   "source": [
    "**Data Cleaning**"
   ]
  },
  {
   "cell_type": "code",
   "metadata": {
    "ExecuteTime": {
     "end_time": "2024-06-03T15:55:25.616011Z",
     "start_time": "2024-06-03T15:55:25.608757Z"
    }
   },
   "source": [
    "# Check for duplicates\n",
    "duplicates = data.duplicated()\n",
    "# Show the duplicated rows\n",
    "print(len(data[duplicates]))"
   ],
   "outputs": [
    {
     "name": "stdout",
     "output_type": "stream",
     "text": [
      "0\n"
     ]
    }
   ],
   "execution_count": 96
  },
  {
   "cell_type": "code",
   "metadata": {
    "ExecuteTime": {
     "end_time": "2024-06-03T15:55:25.896183Z",
     "start_time": "2024-06-03T15:55:25.891740Z"
    }
   },
   "source": [
    "#Drop NAN Values in Income\n",
    "data = data.dropna()\n",
    "data = data.dropna(subset=['Income'])"
   ],
   "outputs": [],
   "execution_count": 97
  },
  {
   "cell_type": "code",
   "metadata": {
    "ExecuteTime": {
     "end_time": "2024-06-03T15:55:26.161221Z",
     "start_time": "2024-06-03T15:55:26.156831Z"
    }
   },
   "source": [
    "# Drop rows with none sense input in Marital_Status\n",
    "indices_yolo = data[data['Marital_Status'] == 'YOLO'].index\n",
    "data = data.drop(indices_yolo)\n",
    "indices_absurd = data[data['Marital_Status'] == 'Absurd'].index\n",
    "data = data.drop(indices_absurd)"
   ],
   "outputs": [],
   "execution_count": 98
  },
  {
   "cell_type": "markdown",
   "metadata": {
    "id": "-XFGsZ0DlbnN"
   },
   "source": [
    "**Data Preprocessing**"
   ]
  },
  {
   "cell_type": "code",
   "metadata": {
    "id": "ljhDNHFqlbnN",
    "ExecuteTime": {
     "end_time": "2024-06-03T15:55:26.645921Z",
     "start_time": "2024-06-03T15:55:26.643033Z"
    }
   },
   "source": [
    "index_recency = data['Recency'].idxmax()\n",
    "indices_yolo = data[data['Marital_Status'] == 'YOLO'].index"
   ],
   "outputs": [],
   "execution_count": 99
  },
  {
   "cell_type": "code",
   "metadata": {
    "colab": {
     "base_uri": "https://localhost:8080/"
    },
    "id": "k3Qw9QXMlbnN",
    "outputId": "8d69ecd8-71cc-48a3-d211-10682f3c4aab",
    "ExecuteTime": {
     "end_time": "2024-06-03T15:55:26.906150Z",
     "start_time": "2024-06-03T15:55:26.903587Z"
    }
   },
   "source": [
    "print(indices_yolo)"
   ],
   "outputs": [
    {
     "name": "stdout",
     "output_type": "stream",
     "text": [
      "Index([], dtype='int64')\n"
     ]
    }
   ],
   "execution_count": 100
  },
  {
   "cell_type": "code",
   "metadata": {
    "colab": {
     "base_uri": "https://localhost:8080/"
    },
    "id": "vOJLIYk5lbnN",
    "outputId": "f4014647-900c-4b62-f0e9-5da4fda72e05",
    "ExecuteTime": {
     "end_time": "2024-06-03T15:55:27.145182Z",
     "start_time": "2024-06-03T15:55:27.141746Z"
    }
   },
   "source": [
    "print(data.iloc[indices_yolo])"
   ],
   "outputs": [
    {
     "name": "stdout",
     "output_type": "stream",
     "text": [
      "Empty DataFrame\n",
      "Columns: [ID, Year_Birth, Education, Marital_Status, Income, Kidhome, Teenhome, Dt_Customer, Recency, MntWines, MntFruits, MntMeatProducts, MntFishProducts, MntSweetProducts, MntGoldProds, NumDealsPurchases, NumWebPurchases, NumCatalogPurchases, NumStorePurchases, NumWebVisitsMonth, AcceptedCmp3, AcceptedCmp4, AcceptedCmp5, AcceptedCmp1, AcceptedCmp2, Complain, Z_CostContact, Z_Revenue, Response]\n",
      "Index: []\n",
      "\n",
      "[0 rows x 29 columns]\n"
     ]
    }
   ],
   "execution_count": 101
  },
  {
   "cell_type": "code",
   "metadata": {
    "colab": {
     "base_uri": "https://localhost:8080/"
    },
    "id": "pCnf5JQvqmFj",
    "outputId": "051886d3-8e23-4cce-8a93-0a6765b843a5",
    "ExecuteTime": {
     "end_time": "2024-06-03T15:55:27.412684Z",
     "start_time": "2024-06-03T15:55:27.409758Z"
    }
   },
   "source": [
    "print(data.iloc[index_recency])"
   ],
   "outputs": [
    {
     "name": "stdout",
     "output_type": "stream",
     "text": [
      "ID                           8601\n",
      "Year_Birth                   1980\n",
      "Education              Graduation\n",
      "Marital_Status            Married\n",
      "Income                    80011.0\n",
      "Kidhome                         0\n",
      "Teenhome                        1\n",
      "Dt_Customer            29-04-2013\n",
      "Recency                         3\n",
      "MntWines                      421\n",
      "MntFruits                      76\n",
      "MntMeatProducts               536\n",
      "MntFishProducts                82\n",
      "MntSweetProducts              178\n",
      "MntGoldProds                  102\n",
      "NumDealsPurchases               2\n",
      "NumWebPurchases                 8\n",
      "NumCatalogPurchases             6\n",
      "NumStorePurchases               5\n",
      "NumWebVisitsMonth               4\n",
      "AcceptedCmp3                    0\n",
      "AcceptedCmp4                    0\n",
      "AcceptedCmp5                    0\n",
      "AcceptedCmp1                    0\n",
      "AcceptedCmp2                    0\n",
      "Complain                        0\n",
      "Z_CostContact                   3\n",
      "Z_Revenue                      11\n",
      "Response                        0\n",
      "Name: 40, dtype: object\n"
     ]
    }
   ],
   "execution_count": 102
  },
  {
   "cell_type": "markdown",
   "metadata": {
    "id": "NWXfqBH5mcWO"
   },
   "source": [
    "#Coloumns to Preprocess:\n",
    "*  Martial_Status (Marek)\n",
    "*  Education (Marek)\n",
    "*  Year_Birth (last enrollment date) (Felix)\n",
    "\n",
    "\n",
    "#Encoding Object Coloumns: (Marek)\n",
    "\n",
    "#Scaling Features (Felix)\n",
    "\n",
    "#Feature Engineering\n",
    "* Living Alone/Living With someone - boolean (Felix)\n",
    "* Total Amount Spent (Marek)\n",
    "\n"
   ]
  },
  {
   "cell_type": "code",
   "metadata": {
    "id": "SQFGrnVtAWf3",
    "ExecuteTime": {
     "end_time": "2024-06-03T15:55:27.993496Z",
     "start_time": "2024-06-03T15:55:27.990235Z"
    }
   },
   "source": [
    "def get_unique(dataframe):\n",
    "  for column in df.columns:\n",
    "    unique_count = df[column].nunique()\n",
    "    print(f\"Number of unique values in column '{column}': {unique_count}\")\n"
   ],
   "outputs": [],
   "execution_count": 103
  },
  {
   "cell_type": "code",
   "metadata": {
    "colab": {
     "base_uri": "https://localhost:8080/"
    },
    "id": "U9lwv2yD9AN-",
    "outputId": "b70e6a9f-f9ab-4dbc-8a36-f6461f64ee08",
    "ExecuteTime": {
     "end_time": "2024-06-03T15:55:28.339293Z",
     "start_time": "2024-06-03T15:55:28.331606Z"
    }
   },
   "source": [
    "data['Dt_Customer'] = pd.to_datetime(data['Dt_Customer'], format='%d-%m-%Y')\n",
    "latest_date = data['Dt_Customer'].max()\n",
    "print(latest_date)"
   ],
   "outputs": [
    {
     "name": "stdout",
     "output_type": "stream",
     "text": [
      "2014-06-29 00:00:00\n"
     ]
    }
   ],
   "execution_count": 104
  },
  {
   "cell_type": "code",
   "metadata": {
    "ExecuteTime": {
     "end_time": "2024-06-03T15:55:28.677494Z",
     "start_time": "2024-06-03T15:55:28.671767Z"
    }
   },
   "source": [
    "#Preprocessing Dt_Customer to numerical format\n",
    "data['Dt_Customer'] = data['Dt_Customer'].apply(lambda x: x.toordinal())"
   ],
   "outputs": [],
   "execution_count": 105
  },
  {
   "cell_type": "code",
   "metadata": {
    "id": "qLHIuxktuPJq",
    "ExecuteTime": {
     "end_time": "2024-06-03T15:55:29.006437Z",
     "start_time": "2024-06-03T15:55:29.003803Z"
    }
   },
   "source": [
    "# Preprocessing Year_Birth\n",
    "#The Year 2014 is the last included in the dataset -> we choose 2015 as base year\n",
    "data['Age']=2015-data['Year_Birth']"
   ],
   "outputs": [],
   "execution_count": 106
  },
  {
   "cell_type": "code",
   "metadata": {
    "ExecuteTime": {
     "end_time": "2024-06-03T15:55:29.293153Z",
     "start_time": "2024-06-03T15:55:29.287834Z"
    }
   },
   "source": [
    "# Create numeric variables for categorical variables and summarize categories.\n",
    "\n",
    "data[\"Marital_Categories\"] = data[\"Marital_Status\"].replace({\"Single\":0, \"Alone\":0, \"Together\":1, \"Married\":1, \"Divorced\":0, \"Widow\":0})\n",
    "data[\"Edu_Categories\"] = data[\"Education\"].replace({\"Basic\":0, \"2n Cycle\":2, \"Graduation\":1, \"Master\":2, \"PhD\":3})"
   ],
   "outputs": [],
   "execution_count": 107
  },
  {
   "cell_type": "code",
   "metadata": {
    "ExecuteTime": {
     "end_time": "2024-06-03T15:55:29.776397Z",
     "start_time": "2024-06-03T15:55:29.773809Z"
    }
   },
   "source": [
    "# Summarize the amount spent on all products.\n",
    "data[\"Spent_Total\"] = data[\"MntWines\"] + data[\"MntFruits\"] + data[\"MntMeatProducts\"] + data[\"MntFishProducts\"] + data[\"MntSweetProducts\"] + data[\"MntGoldProds\"]"
   ],
   "outputs": [],
   "execution_count": 108
  },
  {
   "cell_type": "code",
   "metadata": {
    "colab": {
     "base_uri": "https://localhost:8080/"
    },
    "id": "tXMqC6RzVmI9",
    "outputId": "b8a29c07-043b-4568-bdac-f8a077e98328",
    "ExecuteTime": {
     "end_time": "2024-06-03T15:55:30.046147Z",
     "start_time": "2024-06-03T15:55:30.041790Z"
    }
   },
   "source": [
    "#creating feature \"Living_Alone\" as boolean\n",
    "data['Living_Alone'] = data['Marital_Status'].replace({\"Married\":1, \"Together\":1, \"Absurd\":0, \"Widow\":0, \"YOLO\":0, \"Divorced\":0, \"Single\":0, \"Alone\":0})\n",
    "data['Living_Alone'] = data['Living_Alone'] + data['Kidhome'] + data['Teenhome']\n",
    "data['Living_Alone'] = data['Living_Alone'].where(data['Living_Alone'] <= 1, 1)\n",
    "print(data['Living_Alone'].unique())"
   ],
   "outputs": [
    {
     "name": "stdout",
     "output_type": "stream",
     "text": [
      "[0 1]\n"
     ]
    }
   ],
   "execution_count": 109
  },
  {
   "cell_type": "code",
   "metadata": {
    "ExecuteTime": {
     "end_time": "2024-06-03T15:55:30.358987Z",
     "start_time": "2024-06-03T15:55:30.355398Z"
    }
   },
   "source": [
    "data['Having_Kids'] = data['Kidhome'] + data['Teenhome']\n",
    "data['Having_Kids'] = data['Having_Kids'].where(data['Having_Kids'] <= 1, 1)"
   ],
   "outputs": [],
   "execution_count": 110
  },
  {
   "cell_type": "code",
   "metadata": {
    "colab": {
     "base_uri": "https://localhost:8080/",
     "height": 256
    },
    "id": "Bsd0fjFrWwGg",
    "outputId": "64d271b5-85d3-4e7c-ff91-54b5136ac23d",
    "ExecuteTime": {
     "end_time": "2024-06-03T15:55:30.900921Z",
     "start_time": "2024-06-03T15:55:30.892026Z"
    }
   },
   "source": [
    "data.head()"
   ],
   "outputs": [
    {
     "data": {
      "text/plain": [
       "     ID  Year_Birth   Education Marital_Status   Income  Kidhome  Teenhome  \\\n",
       "0  5524        1957  Graduation         Single  58138.0        0         0   \n",
       "1  2174        1954  Graduation         Single  46344.0        1         1   \n",
       "2  4141        1965  Graduation       Together  71613.0        0         0   \n",
       "3  6182        1984  Graduation       Together  26646.0        1         0   \n",
       "4  5324        1981         PhD        Married  58293.0        1         0   \n",
       "\n",
       "   Dt_Customer  Recency  MntWines  ...  Complain  Z_CostContact  Z_Revenue  \\\n",
       "0       734750       58       635  ...         0              3         11   \n",
       "1       735300       38        11  ...         0              3         11   \n",
       "2       735101       26       426  ...         0              3         11   \n",
       "3       735274       26        11  ...         0              3         11   \n",
       "4       735252       94       173  ...         0              3         11   \n",
       "\n",
       "   Response  Age  Marital_Categories  Edu_Categories  Spent_Total  \\\n",
       "0         1   58                   0               1         1617   \n",
       "1         0   61                   0               1           27   \n",
       "2         0   50                   1               1          776   \n",
       "3         0   31                   1               1           53   \n",
       "4         0   34                   1               3          422   \n",
       "\n",
       "   Living_Alone  Having_Kids  \n",
       "0             0            0  \n",
       "1             1            1  \n",
       "2             1            0  \n",
       "3             1            1  \n",
       "4             1            1  \n",
       "\n",
       "[5 rows x 35 columns]"
      ],
      "text/html": [
       "<div>\n",
       "<style scoped>\n",
       "    .dataframe tbody tr th:only-of-type {\n",
       "        vertical-align: middle;\n",
       "    }\n",
       "\n",
       "    .dataframe tbody tr th {\n",
       "        vertical-align: top;\n",
       "    }\n",
       "\n",
       "    .dataframe thead th {\n",
       "        text-align: right;\n",
       "    }\n",
       "</style>\n",
       "<table border=\"1\" class=\"dataframe\">\n",
       "  <thead>\n",
       "    <tr style=\"text-align: right;\">\n",
       "      <th></th>\n",
       "      <th>ID</th>\n",
       "      <th>Year_Birth</th>\n",
       "      <th>Education</th>\n",
       "      <th>Marital_Status</th>\n",
       "      <th>Income</th>\n",
       "      <th>Kidhome</th>\n",
       "      <th>Teenhome</th>\n",
       "      <th>Dt_Customer</th>\n",
       "      <th>Recency</th>\n",
       "      <th>MntWines</th>\n",
       "      <th>...</th>\n",
       "      <th>Complain</th>\n",
       "      <th>Z_CostContact</th>\n",
       "      <th>Z_Revenue</th>\n",
       "      <th>Response</th>\n",
       "      <th>Age</th>\n",
       "      <th>Marital_Categories</th>\n",
       "      <th>Edu_Categories</th>\n",
       "      <th>Spent_Total</th>\n",
       "      <th>Living_Alone</th>\n",
       "      <th>Having_Kids</th>\n",
       "    </tr>\n",
       "  </thead>\n",
       "  <tbody>\n",
       "    <tr>\n",
       "      <th>0</th>\n",
       "      <td>5524</td>\n",
       "      <td>1957</td>\n",
       "      <td>Graduation</td>\n",
       "      <td>Single</td>\n",
       "      <td>58138.0</td>\n",
       "      <td>0</td>\n",
       "      <td>0</td>\n",
       "      <td>734750</td>\n",
       "      <td>58</td>\n",
       "      <td>635</td>\n",
       "      <td>...</td>\n",
       "      <td>0</td>\n",
       "      <td>3</td>\n",
       "      <td>11</td>\n",
       "      <td>1</td>\n",
       "      <td>58</td>\n",
       "      <td>0</td>\n",
       "      <td>1</td>\n",
       "      <td>1617</td>\n",
       "      <td>0</td>\n",
       "      <td>0</td>\n",
       "    </tr>\n",
       "    <tr>\n",
       "      <th>1</th>\n",
       "      <td>2174</td>\n",
       "      <td>1954</td>\n",
       "      <td>Graduation</td>\n",
       "      <td>Single</td>\n",
       "      <td>46344.0</td>\n",
       "      <td>1</td>\n",
       "      <td>1</td>\n",
       "      <td>735300</td>\n",
       "      <td>38</td>\n",
       "      <td>11</td>\n",
       "      <td>...</td>\n",
       "      <td>0</td>\n",
       "      <td>3</td>\n",
       "      <td>11</td>\n",
       "      <td>0</td>\n",
       "      <td>61</td>\n",
       "      <td>0</td>\n",
       "      <td>1</td>\n",
       "      <td>27</td>\n",
       "      <td>1</td>\n",
       "      <td>1</td>\n",
       "    </tr>\n",
       "    <tr>\n",
       "      <th>2</th>\n",
       "      <td>4141</td>\n",
       "      <td>1965</td>\n",
       "      <td>Graduation</td>\n",
       "      <td>Together</td>\n",
       "      <td>71613.0</td>\n",
       "      <td>0</td>\n",
       "      <td>0</td>\n",
       "      <td>735101</td>\n",
       "      <td>26</td>\n",
       "      <td>426</td>\n",
       "      <td>...</td>\n",
       "      <td>0</td>\n",
       "      <td>3</td>\n",
       "      <td>11</td>\n",
       "      <td>0</td>\n",
       "      <td>50</td>\n",
       "      <td>1</td>\n",
       "      <td>1</td>\n",
       "      <td>776</td>\n",
       "      <td>1</td>\n",
       "      <td>0</td>\n",
       "    </tr>\n",
       "    <tr>\n",
       "      <th>3</th>\n",
       "      <td>6182</td>\n",
       "      <td>1984</td>\n",
       "      <td>Graduation</td>\n",
       "      <td>Together</td>\n",
       "      <td>26646.0</td>\n",
       "      <td>1</td>\n",
       "      <td>0</td>\n",
       "      <td>735274</td>\n",
       "      <td>26</td>\n",
       "      <td>11</td>\n",
       "      <td>...</td>\n",
       "      <td>0</td>\n",
       "      <td>3</td>\n",
       "      <td>11</td>\n",
       "      <td>0</td>\n",
       "      <td>31</td>\n",
       "      <td>1</td>\n",
       "      <td>1</td>\n",
       "      <td>53</td>\n",
       "      <td>1</td>\n",
       "      <td>1</td>\n",
       "    </tr>\n",
       "    <tr>\n",
       "      <th>4</th>\n",
       "      <td>5324</td>\n",
       "      <td>1981</td>\n",
       "      <td>PhD</td>\n",
       "      <td>Married</td>\n",
       "      <td>58293.0</td>\n",
       "      <td>1</td>\n",
       "      <td>0</td>\n",
       "      <td>735252</td>\n",
       "      <td>94</td>\n",
       "      <td>173</td>\n",
       "      <td>...</td>\n",
       "      <td>0</td>\n",
       "      <td>3</td>\n",
       "      <td>11</td>\n",
       "      <td>0</td>\n",
       "      <td>34</td>\n",
       "      <td>1</td>\n",
       "      <td>3</td>\n",
       "      <td>422</td>\n",
       "      <td>1</td>\n",
       "      <td>1</td>\n",
       "    </tr>\n",
       "  </tbody>\n",
       "</table>\n",
       "<p>5 rows × 35 columns</p>\n",
       "</div>"
      ]
     },
     "execution_count": 111,
     "metadata": {},
     "output_type": "execute_result"
    }
   ],
   "execution_count": 111
  },
  {
   "cell_type": "code",
   "metadata": {
    "colab": {
     "base_uri": "https://localhost:8080/"
    },
    "id": "yCrM9dsZBCgW",
    "outputId": "4aa1815a-b6ad-4c22-f3cb-6a8484a9dbfe",
    "ExecuteTime": {
     "end_time": "2024-06-03T15:55:34.580494Z",
     "start_time": "2024-06-03T15:55:34.574675Z"
    }
   },
   "source": [
    "for column in data.columns:\n",
    "    unique_count = data[column].nunique()\n",
    "    print(f\"Number of unique values in column '{column}': {unique_count}\")"
   ],
   "outputs": [
    {
     "name": "stdout",
     "output_type": "stream",
     "text": [
      "Number of unique values in column 'ID': 2211\n",
      "Number of unique values in column 'Year_Birth': 59\n",
      "Number of unique values in column 'Education': 5\n",
      "Number of unique values in column 'Marital_Status': 6\n",
      "Number of unique values in column 'Income': 1972\n",
      "Number of unique values in column 'Kidhome': 3\n",
      "Number of unique values in column 'Teenhome': 3\n",
      "Number of unique values in column 'Dt_Customer': 662\n",
      "Number of unique values in column 'Recency': 100\n",
      "Number of unique values in column 'MntWines': 776\n",
      "Number of unique values in column 'MntFruits': 158\n",
      "Number of unique values in column 'MntMeatProducts': 554\n",
      "Number of unique values in column 'MntFishProducts': 182\n",
      "Number of unique values in column 'MntSweetProducts': 176\n",
      "Number of unique values in column 'MntGoldProds': 211\n",
      "Number of unique values in column 'NumDealsPurchases': 15\n",
      "Number of unique values in column 'NumWebPurchases': 15\n",
      "Number of unique values in column 'NumCatalogPurchases': 14\n",
      "Number of unique values in column 'NumStorePurchases': 14\n",
      "Number of unique values in column 'NumWebVisitsMonth': 16\n",
      "Number of unique values in column 'AcceptedCmp3': 2\n",
      "Number of unique values in column 'AcceptedCmp4': 2\n",
      "Number of unique values in column 'AcceptedCmp5': 2\n",
      "Number of unique values in column 'AcceptedCmp1': 2\n",
      "Number of unique values in column 'AcceptedCmp2': 2\n",
      "Number of unique values in column 'Complain': 2\n",
      "Number of unique values in column 'Z_CostContact': 1\n",
      "Number of unique values in column 'Z_Revenue': 1\n",
      "Number of unique values in column 'Response': 2\n",
      "Number of unique values in column 'Age': 59\n",
      "Number of unique values in column 'Marital_Categories': 2\n",
      "Number of unique values in column 'Edu_Categories': 4\n",
      "Number of unique values in column 'Spent_Total': 1046\n",
      "Number of unique values in column 'Living_Alone': 2\n",
      "Number of unique values in column 'Having_Kids': 2\n"
     ]
    }
   ],
   "execution_count": 112
  },
  {
   "cell_type": "markdown",
   "metadata": {
    "id": "uaqOIVZ7X0AB"
   },
   "source": [
    "'Z_CostContact' & Z_Revenue' only have one value, so we can drop the columns."
   ]
  },
  {
   "cell_type": "code",
   "metadata": {
    "colab": {
     "base_uri": "https://localhost:8080/",
     "height": 318
    },
    "id": "vNxRNNIkYCZA",
    "outputId": "74685d4e-59fd-4a18-b1f1-54117afdb6dd",
    "ExecuteTime": {
     "end_time": "2024-06-03T15:55:35.775205Z",
     "start_time": "2024-06-03T15:55:35.771842Z"
    }
   },
   "source": [
    "columns_to_drop = ['Z_CostContact', 'Z_Revenue']\n",
    "data = data.drop(columns=columns_to_drop)"
   ],
   "outputs": [],
   "execution_count": 113
  },
  {
   "cell_type": "markdown",
   "metadata": {
    "id": "3LbH36m9Y3w-"
   },
   "source": [
    "#Drop redundant features"
   ]
  },
  {
   "cell_type": "code",
   "metadata": {
    "ExecuteTime": {
     "end_time": "2024-06-03T15:55:36.447250Z",
     "start_time": "2024-06-03T15:55:36.443292Z"
    }
   },
   "source": [
    "#Year_Birth and Age are redundant\n",
    "#Education and Edu_Categories are redundant\n",
    "#We will use Kids_Home instead of TeenHome and Kidhome\n",
    "#Living_Alone instead of Marital_Status \n",
    "columns_to_drop = ['Year_Birth', 'Education', 'Kidhome', 'Teenhome', 'Marital_Status']\n",
    "data = data.drop(columns=columns_to_drop)"
   ],
   "outputs": [],
   "execution_count": 114
  },
  {
   "cell_type": "code",
   "metadata": {
    "ExecuteTime": {
     "end_time": "2024-06-03T15:55:36.948340Z",
     "start_time": "2024-06-03T15:55:36.941553Z"
    }
   },
   "source": [
    "#Scaling\n",
    "max_abs_scaler = MaxAbsScaler()\n",
    "data_maxabs = max_abs_scaler.fit_transform(data)"
   ],
   "outputs": [],
   "execution_count": 115
  },
  {
   "cell_type": "code",
   "metadata": {
    "id": "lg0EXRdRaJ0s",
    "ExecuteTime": {
     "end_time": "2024-06-03T15:55:37.335187Z",
     "start_time": "2024-06-03T15:55:37.332398Z"
    }
   },
   "source": [
    "def print_first_rows(arr, num_rows):\n",
    "  \"\"\"Prints the first n rows of a NumPy array.\"\"\"\n",
    "  if num_rows > arr.shape[0]:\n",
    "    print(f\"Number of rows ({num_rows}) exceeds the array's total rows ({arr.shape[0]})\")\n",
    "  else:\n",
    "    print(arr[:num_rows])"
   ],
   "outputs": [],
   "execution_count": 116
  },
  {
   "cell_type": "code",
   "metadata": {
    "colab": {
     "base_uri": "https://localhost:8080/"
    },
    "id": "LXpgU1pAcrxE",
    "outputId": "25edf7ab-a618-4021-f79a-a38de495df01",
    "ExecuteTime": {
     "end_time": "2024-06-03T15:55:37.904995Z",
     "start_time": "2024-06-03T15:55:37.902181Z"
    }
   },
   "source": [
    "print_first_rows(data_maxabs, 5)"
   ],
   "outputs": [
    {
     "name": "stdout",
     "output_type": "stream",
     "text": [
      "[[0.49361094 0.35799922 0.99909847 0.58585859 0.42531815 0.44221106\n",
      "  0.31652174 0.66409266 0.33587786 0.2741433  0.2        0.2962963\n",
      "  0.35714286 0.30769231 0.35       0.         0.         0.\n",
      "  0.         0.         0.         1.         0.47540984 0.\n",
      "  0.33333333 0.64039604 0.         0.        ]\n",
      " [0.19426325 0.28537473 0.99984634 0.38383838 0.00736772 0.00502513\n",
      "  0.00347826 0.00772201 0.00381679 0.01869159 0.13333333 0.03703704\n",
      "  0.03571429 0.15384615 0.25       0.         0.         0.\n",
      "  0.         0.         0.         0.         0.5        0.\n",
      "  0.33333333 0.01069307 1.         1.        ]\n",
      " [0.37002949 0.44097489 0.99957575 0.26262626 0.28533155 0.24623116\n",
      "  0.07362319 0.42857143 0.08015267 0.13084112 0.06666667 0.2962963\n",
      "  0.07142857 0.76923077 0.2        0.         0.         0.\n",
      "  0.         0.         0.         0.         0.40983607 1.\n",
      "  0.33333333 0.30732673 1.         0.        ]\n",
      " [0.55240819 0.16407939 0.99981099 0.26262626 0.00736772 0.0201005\n",
      "  0.0115942  0.03861004 0.01145038 0.01557632 0.13333333 0.07407407\n",
      "  0.         0.30769231 0.3        0.         0.         0.\n",
      "  0.         0.         0.         0.         0.25409836 1.\n",
      "  0.33333333 0.0209901  1.         1.        ]\n",
      " [0.47573943 0.35895368 0.99978108 0.94949495 0.11587408 0.2160804\n",
      "  0.0684058  0.17760618 0.10305344 0.04672897 0.33333333 0.18518519\n",
      "  0.10714286 0.46153846 0.25       0.         0.         0.\n",
      "  0.         0.         0.         0.         0.27868852 1.\n",
      "  1.         0.16712871 1.         1.        ]]\n"
     ]
    }
   ],
   "execution_count": 117
  },
  {
   "cell_type": "markdown",
   "metadata": {
    "id": "91Tx8NDezEFU"
   },
   "source": [
    "#Evaluation of Model\n",
    "* sklearn.metrics.silhouette_score\n",
    "* sklearn.metrics.calinski_harabasz_score\n",
    "* mean_squared_error\n",
    "\n",
    "\n"
   ]
  },
  {
   "cell_type": "markdown",
   "metadata": {
    "id": "Fc4FCW6I2Bt9"
   },
   "source": [
    "# Building the Model\n",
    "* KMeans\n",
    "* DBSCAN"
   ]
  },
  {
   "cell_type": "code",
   "metadata": {
    "id": "BpJn36fc2J-w",
    "ExecuteTime": {
     "end_time": "2024-06-03T15:55:39.703067Z",
     "start_time": "2024-06-03T15:55:39.700275Z"
    }
   },
   "source": [
    "from sklearn.cluster import KMeans"
   ],
   "outputs": [],
   "execution_count": 118
  },
  {
   "cell_type": "code",
   "metadata": {
    "colab": {
     "base_uri": "https://localhost:8080/",
     "height": 911
    },
    "id": "oRnmqm8K2xLM",
    "outputId": "3398e620-d535-44f3-ef59-d120b478bc3d",
    "ExecuteTime": {
     "end_time": "2024-06-03T15:55:40.399188Z",
     "start_time": "2024-06-03T15:55:40.109365Z"
    }
   },
   "source": [
    "from yellowbrick.cluster import KElbowVisualizer\n",
    "print(data_maxabs.shape)\n",
    "print('Elbow Method to determine the number of clusters to be formed:')\n",
    "data_maxabs = data_maxabs[~np.isnan(data_maxabs).any(axis=1), :]\n",
    "Elbow_M = KElbowVisualizer(KMeans(), k=10)\n",
    "Elbow_M.fit(data_maxabs)\n",
    "Elbow_M.show()"
   ],
   "outputs": [
    {
     "name": "stdout",
     "output_type": "stream",
     "text": [
      "(2211, 28)\n",
      "Elbow Method to determine the number of clusters to be formed:\n"
     ]
    },
    {
     "data": {
      "text/plain": [
       "<Figure size 800x550 with 2 Axes>"
      ],
      "image/png": "[encoded data removed]"
     },
     "metadata": {},
     "output_type": "display_data"
    },
    {
     "data": {
      "text/plain": [
       "<Axes: title={'center': 'Distortion Score Elbow for KMeans Clustering'}, xlabel='k', ylabel='distortion score'>"
      ]
     },
     "execution_count": 119,
     "metadata": {},
     "output_type": "execute_result"
    }
   ],
   "execution_count": 119
  },
  {
   "cell_type": "code",
   "metadata": {
    "ExecuteTime": {
     "end_time": "2024-06-03T15:55:40.613943Z",
     "start_time": "2024-06-03T15:55:40.612001Z"
    }
   },
   "source": [
    "def plot_k_distance(data, min_samples):\n",
    "    neighbors = NearestNeighbors(n_neighbors=min_samples)\n",
    "    neighbors_fit = neighbors.fit(data)\n",
    "    distances, indices = neighbors_fit.kneighbors(data)\n",
    "    distances = np.sort(distances[:, min_samples-1], axis=0)\n",
    "    plt.plot(distances)\n",
    "    plt.xlabel('Data Points sorted by distance')\n",
    "    plt.ylabel(f'{min_samples}-distance')\n",
    "    plt.show()"
   ],
   "outputs": [],
   "execution_count": 120
  },
  {
   "cell_type": "code",
   "metadata": {
    "ExecuteTime": {
     "end_time": "2024-06-03T15:23:22.467983Z",
     "start_time": "2024-06-03T15:23:22.385194Z"
    }
   },
   "source": [
    "min_samples = 56  # or a value in the range of 50-70\n",
    "nbrs = NearestNeighbors(n_neighbors=min_samples).fit(data)\n",
    "distances, indices = nbrs.kneighbors(data)\n",
    "\n",
    "# Sort the distances to the k-th nearest neighbor (index min_samples-1)\n",
    "distances = np.sort(distances[:, min_samples - 1])\n",
    "\n",
    "# Plot the sorted k-distances\n",
    "plt.plot(distances)\n",
    "plt.xlabel('Points sorted by distance')\n",
    "plt.ylabel('Distance to k-th nearest neighbor')\n",
    "plt.title('k-distance Graph')\n",
    "plt.show()\n"
   ],
   "outputs": [
    {
     "data": {
      "text/plain": [
       "<Figure size 800x550 with 1 Axes>"
      ],
      "image/png": "[encoded data removed]"
     },
     "metadata": {},
     "output_type": "display_data"
    }
   ],
   "execution_count": 55
  },
  {
   "cell_type": "markdown",
   "metadata": {},
   "source": [
    "k_range = range(4, 6)"
   ]
  },
  {
   "cell_type": "code",
   "metadata": {
    "id": "3vPrGgji3bC3",
    "ExecuteTime": {
     "end_time": "2024-06-03T15:23:24.055568Z",
     "start_time": "2024-06-03T15:23:24.053556Z"
    }
   },
   "source": [
    "def evaluate_k_clustering(data, combination, k):\n",
    "    X = data[list(combination)]\n",
    "    kmeans = KMeans(n_clusters=k, random_state=42)\n",
    "    labels = kmeans.fit_predict(X)\n",
    "    silhouette_avg = silhouette_score(X, labels)\n",
    "    davies_bouldin_avg = davies_bouldin_score(X, labels)\n",
    "    return silhouette_avg, davies_bouldin_avg"
   ],
   "outputs": [],
   "execution_count": 56
  },
  {
   "cell_type": "code",
   "metadata": {
    "ExecuteTime": {
     "end_time": "2024-06-03T15:23:24.535845Z",
     "start_time": "2024-06-03T15:23:24.533399Z"
    }
   },
   "source": [
    "def evaluate_dbscan_clustering(data, combination, eps, min_sampels):\n",
    "    X = data[list(combination)]\n",
    "    dbscan = DBSCAN(eps = eps, min_samples = min_samples)\n",
    "    labels = dbscan.fit_predict(X)\n",
    "    unique_labels = set(labels)\n",
    "    \n",
    "    if len(unique_labels) > 1:\n",
    "        silhouette_avg = silhouette_score(X, labels)\n",
    "        davies_bouldin_avg = davies_bouldin_score(X, labels)\n",
    "        n_clusters = len(unique_labels)\n",
    "    else:\n",
    "        silhouette_avg = -1  \n",
    "        davies_bouldin_avg = -1\n",
    "        n_clusters = - 1\n",
    "    return silhouette_avg, davies_bouldin_avg, n_clusters"
   ],
   "outputs": [],
   "execution_count": 57
  },
  {
   "cell_type": "code",
   "metadata": {
    "ExecuteTime": {
     "end_time": "2024-06-03T15:23:25.065221Z",
     "start_time": "2024-06-03T15:23:25.063211Z"
    }
   },
   "source": [
    "# Function to log experiment details to MLflow for k means\n",
    "def log_k_experiment(combination, k, silhouette_avg, davies_bouldin_avg):\n",
    "    with mlflow.start_run():\n",
    "        mlflow\n",
    "        mlflow.log_param(\"features\", combination)\n",
    "        mlflow.log_param(\"k\", k)\n",
    "        mlflow.log_metric(\"silhouette_score\", silhouette_avg)\n",
    "        mlflow.log_metric(\"davies_bouldin_score\", davies_bouldin_avg)\n",
    "        mlflow.set_tag(\"algorithm\", \"KMeans\")"
   ],
   "outputs": [],
   "execution_count": 58
  },
  {
   "cell_type": "code",
   "metadata": {
    "ExecuteTime": {
     "end_time": "2024-06-03T15:23:25.579602Z",
     "start_time": "2024-06-03T15:23:25.577630Z"
    }
   },
   "source": [
    "# Function to log experiment details to MLflow for k means\n",
    "def log_dbscan_experiment(combination, silhouette_avg, davies_bouldin_avg, eps, min_samples, n_clusters):\n",
    "    run_name = f\"DBSCAN_eps={eps}_min_samples={min_samples}\"\n",
    "    with mlflow.start_run(run_name=run_name):\n",
    "        mlflow\n",
    "        mlflow.log_param(\"min_samples\", min_samples)\n",
    "        mlflow.log_param(\"eps\", eps)\n",
    "        mlflow.log_param(\"features\", combination)\n",
    "        mlflow.log_metric(\"silhouette_score\", silhouette_avg)\n",
    "        mlflow.log_metric(\"n-cluster\", n_clusters)\n",
    "        mlflow.log_metric(\"davies_bouldin_score\", davies_bouldin_avg)\n",
    "        mlflow.set_tag(\"algorithm\", \"dbscan\")"
   ],
   "outputs": [],
   "execution_count": 59
  },
  {
   "cell_type": "code",
   "metadata": {
    "ExecuteTime": {
     "end_time": "2024-06-03T15:23:26.074083Z",
     "start_time": "2024-06-03T15:23:26.072555Z"
    }
   },
   "source": [
    "# Iterate over all possible feature combinations\n",
    "#for L in range(1, len(data.columns) + 1):\n",
    " #   for combination in itertools.combinations(data.columns, L):\n",
    "  #      for k in k_range:\n",
    "   #         silhouette_avg, davies_bouldin_avg = evaluate_clustering(data, combination, k)\n",
    "    #        log_experiment(combination, k, silhouette_avg, davies_bouldin_avg)\n",
    "     #       print(f\"Logged {combination} with k={k}\")"
   ],
   "outputs": [],
   "execution_count": 60
  },
  {
   "cell_type": "code",
   "metadata": {
    "ExecuteTime": {
     "end_time": "2024-06-03T15:23:26.493531Z",
     "start_time": "2024-06-03T15:23:26.491719Z"
    }
   },
   "source": [
    "print(\"Clustering evaluation completed and logged to MLflow.\")"
   ],
   "outputs": [
    {
     "name": "stdout",
     "output_type": "stream",
     "text": [
      "Clustering evaluation completed and logged to MLflow.\n"
     ]
    }
   ],
   "execution_count": 61
  },
  {
   "cell_type": "code",
   "metadata": {
    "ExecuteTime": {
     "end_time": "2024-06-03T15:25:55.415668Z",
     "start_time": "2024-06-03T15:25:55.412147Z"
    }
   },
   "source": [
    "def plot_cardinality_cluster_dbscan(data):\n",
    "    dbscan = DBSCAN(eps = 20000.0, min_samples = 56)\n",
    "    labels = dbscan.fit_predict(data)\n",
    "    unique_labels = set(labels)\n",
    "    if len(unique_labels) > 1:\n",
    "        n_clusters = len(set(labels)) \n",
    "        n_noise = list(labels).count(-1)    \n",
    "    \n",
    "    cardinality = [list(labels).count(label) for label in unique_labels]\n",
    "    clusters = ['Noise' if label == -1 else f'Cluster {label}' for label in unique_labels]\n",
    "    \n",
    "    plt.figure(figsize=(10, 6))\n",
    "    sns.barplot(x=clusters, y=cardinality)\n",
    "    plt.title('Cardinality of Each Cluster')\n",
    "    plt.xlabel('Cluster')\n",
    "    plt.ylabel('Number of Points')\n",
    "    plt.show()"
   ],
   "outputs": [],
   "execution_count": 79
  },
  {
   "metadata": {},
   "cell_type": "code",
   "outputs": [],
   "execution_count": null,
   "source": ""
  },
  {
   "metadata": {
    "ExecuteTime": {
     "end_time": "2024-06-03T15:28:54.826380Z",
     "start_time": "2024-06-03T15:28:54.823114Z"
    }
   },
   "cell_type": "code",
   "source": [
    "def plot_cardinality_cluster_kmeans(data, k):\n",
    "    combination = data.columns\n",
    "    X = data[list(combination)]\n",
    "    kmeans = KMeans(n_clusters=k, random_state=42)\n",
    "    labels = kmeans.fit_predict(X)\n",
    "    unique_labels = set(labels)\n",
    "    if len(unique_labels) > 1:\n",
    "        n_clusters = len(set(labels)) \n",
    "        n_noise = list(labels).count(-1)    \n",
    "    \n",
    "    cardinality = [list(labels).count(label) for label in unique_labels]\n",
    "    clusters = ['Noise' if label == -1 else f'Cluster {label}' for label in unique_labels]\n",
    "    \n",
    "    plt.figure(figsize=(10, 6))\n",
    "    sns.barplot(x=clusters, y=cardinality)\n",
    "    plt.title('Cardinality of Each Cluster')\n",
    "    plt.xlabel('Cluster')\n",
    "    plt.ylabel('Number of Points')\n",
    "    plt.show()"
   ],
   "outputs": [],
   "execution_count": 88
  },
  {
   "metadata": {
    "ExecuteTime": {
     "end_time": "2024-06-03T15:28:55.305379Z",
     "start_time": "2024-06-03T15:28:55.180504Z"
    }
   },
   "cell_type": "code",
   "source": "plot_cardinality_cluster_kmeans(data, 5)",
   "outputs": [
    {
     "data": {
      "text/plain": [
       "<Figure size 1000x600 with 1 Axes>"
      ],
      "image/png": "[encoded data removed]"
     },
     "metadata": {},
     "output_type": "display_data"
    }
   ],
   "execution_count": 89
  },
  {
   "metadata": {},
   "cell_type": "code",
   "outputs": [
    {
     "name": "stdout",
     "output_type": "stream",
     "text": [
      "Logged with dbscan with min_samples=56 and eps=40000.0 with 2 Cluster\n"
     ]
    }
   ],
   "execution_count": 534,
   "source": [
    "# common approach 2 * number of features\n",
    "min_samples_values = np.arange(56, 57, 1)\n",
    "eps_values = np.arange(40000.0, 40001.0, 1000.0)\n",
    "\n",
    "combination = data.columns\n",
    "\n",
    "for eps in eps_values:\n",
    "    for min_samples in min_samples_values:\n",
    "        silhouette_avg, davies_bouldin_avg, n_clusters = evaluate_dbscan_clustering(data, combination, eps, min_samples)\n",
    "        log_dbscan_experiment(combination,  silhouette_avg, davies_bouldin_avg, eps, min_samples, n_clusters)\n",
    "        print(f\"Logged with dbscan with min_samples={min_samples} and eps={eps} with {n_clusters} Cluster\")"
   ]
  }
 ],
 "metadata": {
  "colab": {
   "provenance": []
  },
  "kaggle": {
   "accelerator": "none",
   "dataSources": [
    {
     "datasetId": 1546318,
     "sourceId": 2549419,
     "sourceType": "datasetVersion"
    }
   ],
   "dockerImageVersionId": 30698,
   "isGpuEnabled": false,
   "isInternetEnabled": false,
   "language": "python",
   "sourceType": "notebook"
  },
  "kernelspec": {
   "display_name": "Python 3 (ipykernel)",
   "language": "python",
   "name": "python3"
  },
  "language_info": {
   "codemirror_mode": {
    "name": "ipython",
    "version": 3
   },
   "file_extension": ".py",
   "mimetype": "text/x-python",
   "name": "python",
   "nbconvert_exporter": "python",
   "pygments_lexer": "ipython3",
   "version": "3.12.3"
  }
 },
 "nbformat": 4,
 "nbformat_minor": 4
}
