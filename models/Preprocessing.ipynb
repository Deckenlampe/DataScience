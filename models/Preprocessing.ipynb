{
 "cells": [
  {
   "cell_type": "code",
   "id": "initial_id",
   "metadata": {
    "collapsed": true,
    "ExecuteTime": {
     "end_time": "2024-06-22T12:52:17.980258Z",
     "start_time": "2024-06-22T12:52:17.977221Z"
    }
   },
   "source": [
    " import os\n",
    "from datetime import datetime\n",
    "import numpy as np # linear algebra\n",
    "import pandas as pd # data processing, CSV file I/O (e.g. pd.read_csv)\n",
    "pd.set_option('future.no_silent_downcasting', True)\n",
    "import seaborn as sns\n",
    "import matplotlib.pyplot as plt"
   ],
   "outputs": [],
   "execution_count": 97
  },
  {
   "metadata": {
    "ExecuteTime": {
     "end_time": "2024-06-22T12:52:18.437384Z",
     "start_time": "2024-06-22T12:52:18.426650Z"
    }
   },
   "cell_type": "code",
   "source": [
    "data = pd.read_csv(\"data/marketing_campaign.csv\", sep=\"\\t\")\n",
    "print(\"Number of datapoints:\", len(data))\n",
    "data.head()"
   ],
   "id": "f29f6bfe905525b6",
   "outputs": [
    {
     "name": "stdout",
     "output_type": "stream",
     "text": [
      "Number of datapoints: 2240\n"
     ]
    },
    {
     "data": {
      "text/plain": [
       "     ID  Year_Birth   Education Marital_Status   Income  Kidhome  Teenhome  \\\n",
       "0  5524        1957  Graduation         Single  58138.0        0         0   \n",
       "1  2174        1954  Graduation         Single  46344.0        1         1   \n",
       "2  4141        1965  Graduation       Together  71613.0        0         0   \n",
       "3  6182        1984  Graduation       Together  26646.0        1         0   \n",
       "4  5324        1981         PhD        Married  58293.0        1         0   \n",
       "\n",
       "  Dt_Customer  Recency  MntWines  ...  NumWebVisitsMonth  AcceptedCmp3  \\\n",
       "0  04-09-2012       58       635  ...                  7             0   \n",
       "1  08-03-2014       38        11  ...                  5             0   \n",
       "2  21-08-2013       26       426  ...                  4             0   \n",
       "3  10-02-2014       26        11  ...                  6             0   \n",
       "4  19-01-2014       94       173  ...                  5             0   \n",
       "\n",
       "   AcceptedCmp4  AcceptedCmp5  AcceptedCmp1  AcceptedCmp2  Complain  \\\n",
       "0             0             0             0             0         0   \n",
       "1             0             0             0             0         0   \n",
       "2             0             0             0             0         0   \n",
       "3             0             0             0             0         0   \n",
       "4             0             0             0             0         0   \n",
       "\n",
       "   Z_CostContact  Z_Revenue  Response  \n",
       "0              3         11         1  \n",
       "1              3         11         0  \n",
       "2              3         11         0  \n",
       "3              3         11         0  \n",
       "4              3         11         0  \n",
       "\n",
       "[5 rows x 29 columns]"
      ],
      "text/html": [
       "<div>\n",
       "<style scoped>\n",
       "    .dataframe tbody tr th:only-of-type {\n",
       "        vertical-align: middle;\n",
       "    }\n",
       "\n",
       "    .dataframe tbody tr th {\n",
       "        vertical-align: top;\n",
       "    }\n",
       "\n",
       "    .dataframe thead th {\n",
       "        text-align: right;\n",
       "    }\n",
       "</style>\n",
       "<table border=\"1\" class=\"dataframe\">\n",
       "  <thead>\n",
       "    <tr style=\"text-align: right;\">\n",
       "      <th></th>\n",
       "      <th>ID</th>\n",
       "      <th>Year_Birth</th>\n",
       "      <th>Education</th>\n",
       "      <th>Marital_Status</th>\n",
       "      <th>Income</th>\n",
       "      <th>Kidhome</th>\n",
       "      <th>Teenhome</th>\n",
       "      <th>Dt_Customer</th>\n",
       "      <th>Recency</th>\n",
       "      <th>MntWines</th>\n",
       "      <th>...</th>\n",
       "      <th>NumWebVisitsMonth</th>\n",
       "      <th>AcceptedCmp3</th>\n",
       "      <th>AcceptedCmp4</th>\n",
       "      <th>AcceptedCmp5</th>\n",
       "      <th>AcceptedCmp1</th>\n",
       "      <th>AcceptedCmp2</th>\n",
       "      <th>Complain</th>\n",
       "      <th>Z_CostContact</th>\n",
       "      <th>Z_Revenue</th>\n",
       "      <th>Response</th>\n",
       "    </tr>\n",
       "  </thead>\n",
       "  <tbody>\n",
       "    <tr>\n",
       "      <th>0</th>\n",
       "      <td>5524</td>\n",
       "      <td>1957</td>\n",
       "      <td>Graduation</td>\n",
       "      <td>Single</td>\n",
       "      <td>58138.0</td>\n",
       "      <td>0</td>\n",
       "      <td>0</td>\n",
       "      <td>04-09-2012</td>\n",
       "      <td>58</td>\n",
       "      <td>635</td>\n",
       "      <td>...</td>\n",
       "      <td>7</td>\n",
       "      <td>0</td>\n",
       "      <td>0</td>\n",
       "      <td>0</td>\n",
       "      <td>0</td>\n",
       "      <td>0</td>\n",
       "      <td>0</td>\n",
       "      <td>3</td>\n",
       "      <td>11</td>\n",
       "      <td>1</td>\n",
       "    </tr>\n",
       "    <tr>\n",
       "      <th>1</th>\n",
       "      <td>2174</td>\n",
       "      <td>1954</td>\n",
       "      <td>Graduation</td>\n",
       "      <td>Single</td>\n",
       "      <td>46344.0</td>\n",
       "      <td>1</td>\n",
       "      <td>1</td>\n",
       "      <td>08-03-2014</td>\n",
       "      <td>38</td>\n",
       "      <td>11</td>\n",
       "      <td>...</td>\n",
       "      <td>5</td>\n",
       "      <td>0</td>\n",
       "      <td>0</td>\n",
       "      <td>0</td>\n",
       "      <td>0</td>\n",
       "      <td>0</td>\n",
       "      <td>0</td>\n",
       "      <td>3</td>\n",
       "      <td>11</td>\n",
       "      <td>0</td>\n",
       "    </tr>\n",
       "    <tr>\n",
       "      <th>2</th>\n",
       "      <td>4141</td>\n",
       "      <td>1965</td>\n",
       "      <td>Graduation</td>\n",
       "      <td>Together</td>\n",
       "      <td>71613.0</td>\n",
       "      <td>0</td>\n",
       "      <td>0</td>\n",
       "      <td>21-08-2013</td>\n",
       "      <td>26</td>\n",
       "      <td>426</td>\n",
       "      <td>...</td>\n",
       "      <td>4</td>\n",
       "      <td>0</td>\n",
       "      <td>0</td>\n",
       "      <td>0</td>\n",
       "      <td>0</td>\n",
       "      <td>0</td>\n",
       "      <td>0</td>\n",
       "      <td>3</td>\n",
       "      <td>11</td>\n",
       "      <td>0</td>\n",
       "    </tr>\n",
       "    <tr>\n",
       "      <th>3</th>\n",
       "      <td>6182</td>\n",
       "      <td>1984</td>\n",
       "      <td>Graduation</td>\n",
       "      <td>Together</td>\n",
       "      <td>26646.0</td>\n",
       "      <td>1</td>\n",
       "      <td>0</td>\n",
       "      <td>10-02-2014</td>\n",
       "      <td>26</td>\n",
       "      <td>11</td>\n",
       "      <td>...</td>\n",
       "      <td>6</td>\n",
       "      <td>0</td>\n",
       "      <td>0</td>\n",
       "      <td>0</td>\n",
       "      <td>0</td>\n",
       "      <td>0</td>\n",
       "      <td>0</td>\n",
       "      <td>3</td>\n",
       "      <td>11</td>\n",
       "      <td>0</td>\n",
       "    </tr>\n",
       "    <tr>\n",
       "      <th>4</th>\n",
       "      <td>5324</td>\n",
       "      <td>1981</td>\n",
       "      <td>PhD</td>\n",
       "      <td>Married</td>\n",
       "      <td>58293.0</td>\n",
       "      <td>1</td>\n",
       "      <td>0</td>\n",
       "      <td>19-01-2014</td>\n",
       "      <td>94</td>\n",
       "      <td>173</td>\n",
       "      <td>...</td>\n",
       "      <td>5</td>\n",
       "      <td>0</td>\n",
       "      <td>0</td>\n",
       "      <td>0</td>\n",
       "      <td>0</td>\n",
       "      <td>0</td>\n",
       "      <td>0</td>\n",
       "      <td>3</td>\n",
       "      <td>11</td>\n",
       "      <td>0</td>\n",
       "    </tr>\n",
       "  </tbody>\n",
       "</table>\n",
       "<p>5 rows × 29 columns</p>\n",
       "</div>"
      ]
     },
     "execution_count": 98,
     "metadata": {},
     "output_type": "execute_result"
    }
   ],
   "execution_count": 98
  },
  {
   "metadata": {
    "ExecuteTime": {
     "end_time": "2024-06-22T12:52:18.525445Z",
     "start_time": "2024-06-22T12:52:18.520923Z"
    }
   },
   "cell_type": "code",
   "source": "data.info()",
   "id": "8d518bfceb4fa215",
   "outputs": [
    {
     "name": "stdout",
     "output_type": "stream",
     "text": [
      "<class 'pandas.core.frame.DataFrame'>\n",
      "RangeIndex: 2240 entries, 0 to 2239\n",
      "Data columns (total 29 columns):\n",
      " #   Column               Non-Null Count  Dtype  \n",
      "---  ------               --------------  -----  \n",
      " 0   ID                   2240 non-null   int64  \n",
      " 1   Year_Birth           2240 non-null   int64  \n",
      " 2   Education            2240 non-null   object \n",
      " 3   Marital_Status       2240 non-null   object \n",
      " 4   Income               2216 non-null   float64\n",
      " 5   Kidhome              2240 non-null   int64  \n",
      " 6   Teenhome             2240 non-null   int64  \n",
      " 7   Dt_Customer          2240 non-null   object \n",
      " 8   Recency              2240 non-null   int64  \n",
      " 9   MntWines             2240 non-null   int64  \n",
      " 10  MntFruits            2240 non-null   int64  \n",
      " 11  MntMeatProducts      2240 non-null   int64  \n",
      " 12  MntFishProducts      2240 non-null   int64  \n",
      " 13  MntSweetProducts     2240 non-null   int64  \n",
      " 14  MntGoldProds         2240 non-null   int64  \n",
      " 15  NumDealsPurchases    2240 non-null   int64  \n",
      " 16  NumWebPurchases      2240 non-null   int64  \n",
      " 17  NumCatalogPurchases  2240 non-null   int64  \n",
      " 18  NumStorePurchases    2240 non-null   int64  \n",
      " 19  NumWebVisitsMonth    2240 non-null   int64  \n",
      " 20  AcceptedCmp3         2240 non-null   int64  \n",
      " 21  AcceptedCmp4         2240 non-null   int64  \n",
      " 22  AcceptedCmp5         2240 non-null   int64  \n",
      " 23  AcceptedCmp1         2240 non-null   int64  \n",
      " 24  AcceptedCmp2         2240 non-null   int64  \n",
      " 25  Complain             2240 non-null   int64  \n",
      " 26  Z_CostContact        2240 non-null   int64  \n",
      " 27  Z_Revenue            2240 non-null   int64  \n",
      " 28  Response             2240 non-null   int64  \n",
      "dtypes: float64(1), int64(25), object(3)\n",
      "memory usage: 507.6+ KB\n"
     ]
    }
   ],
   "execution_count": 99
  },
  {
   "metadata": {
    "ExecuteTime": {
     "end_time": "2024-06-22T12:52:18.597581Z",
     "start_time": "2024-06-22T12:52:18.595071Z"
    }
   },
   "cell_type": "code",
   "source": [
    "print(\"Total categories in the feature Marital_Status:\\n\", data[\"Marital_Status\"].value_counts(), \"\\n\")\n",
    "print(\"Total categories in the feature Education:\\n\", data[\"Education\"].value_counts())"
   ],
   "id": "dacd311bf8ede3e4",
   "outputs": [
    {
     "name": "stdout",
     "output_type": "stream",
     "text": [
      "Total categories in the feature Marital_Status:\n",
      " Marital_Status\n",
      "Married     864\n",
      "Together    580\n",
      "Single      480\n",
      "Divorced    232\n",
      "Widow        77\n",
      "Alone         3\n",
      "Absurd        2\n",
      "YOLO          2\n",
      "Name: count, dtype: int64 \n",
      "\n",
      "Total categories in the feature Education:\n",
      " Education\n",
      "Graduation    1127\n",
      "PhD            486\n",
      "Master         370\n",
      "2n Cycle       203\n",
      "Basic           54\n",
      "Name: count, dtype: int64\n"
     ]
    }
   ],
   "execution_count": 100
  },
  {
   "metadata": {},
   "cell_type": "markdown",
   "source": "**Data Cleaning**",
   "id": "d8f3a23a1f2a4a38"
  },
  {
   "metadata": {
    "ExecuteTime": {
     "end_time": "2024-06-22T12:52:18.760934Z",
     "start_time": "2024-06-22T12:52:18.757731Z"
    }
   },
   "cell_type": "code",
   "source": [
    "# Check for duplicates\n",
    "duplicates = data.duplicated()\n",
    "# Show the duplicated rows\n",
    "print(len(data[duplicates]))"
   ],
   "id": "c0d3ccffb569dcd0",
   "outputs": [
    {
     "name": "stdout",
     "output_type": "stream",
     "text": [
      "0\n"
     ]
    }
   ],
   "execution_count": 101
  },
  {
   "metadata": {
    "ExecuteTime": {
     "end_time": "2024-06-22T12:52:18.847514Z",
     "start_time": "2024-06-22T12:52:18.845592Z"
    }
   },
   "cell_type": "code",
   "source": [
    "def detect_outliers_iqr(df, column):\n",
    "    Q1 = df[column].quantile(0.25)\n",
    "    Q3 = df[column].quantile(0.75)\n",
    "    IQR = Q3 - Q1\n",
    "    \n",
    "    lower_bound = Q1 - 1.5 * IQR\n",
    "    upper_bound = Q3 + 1.5 * IQR\n",
    "    \n",
    "    outliers = df[(df[column] < lower_bound) | (df[column] > upper_bound)].index\n",
    "    return list(outliers)"
   ],
   "id": "152df9c82aa8bed7",
   "outputs": [],
   "execution_count": 102
  },
  {
   "metadata": {
    "ExecuteTime": {
     "end_time": "2024-06-22T12:52:18.929649Z",
     "start_time": "2024-06-22T12:52:18.928283Z"
    }
   },
   "cell_type": "code",
   "source": "#outliersIncome = detect_outliers_iqr(data, 'Income')",
   "id": "ea401e0493d4a1ec",
   "outputs": [],
   "execution_count": 103
  },
  {
   "metadata": {
    "ExecuteTime": {
     "end_time": "2024-06-22T12:52:19.014703Z",
     "start_time": "2024-06-22T12:52:19.013296Z"
    }
   },
   "cell_type": "code",
   "source": [
    "#print(outliersIncome)\n",
    "#values = data.loc[outliersIncome, 'Income']\n",
    "#print(values)"
   ],
   "id": "633a77cb5823ee7a",
   "outputs": [],
   "execution_count": 104
  },
  {
   "metadata": {
    "ExecuteTime": {
     "end_time": "2024-06-22T12:52:19.099299Z",
     "start_time": "2024-06-22T12:52:19.097501Z"
    }
   },
   "cell_type": "code",
   "source": "#data = data.drop(outliersIncome)",
   "id": "f0b9a7a889316974",
   "outputs": [],
   "execution_count": 105
  },
  {
   "metadata": {
    "ExecuteTime": {
     "end_time": "2024-06-22T12:52:19.180889Z",
     "start_time": "2024-06-22T12:52:19.178579Z"
    }
   },
   "cell_type": "code",
   "source": "data.shape",
   "id": "e24a5c158325a2e",
   "outputs": [
    {
     "data": {
      "text/plain": [
       "(2240, 29)"
      ]
     },
     "execution_count": 106,
     "metadata": {},
     "output_type": "execute_result"
    }
   ],
   "execution_count": 106
  },
  {
   "metadata": {
    "ExecuteTime": {
     "end_time": "2024-06-22T12:52:19.264238Z",
     "start_time": "2024-06-22T12:52:19.261185Z"
    }
   },
   "cell_type": "code",
   "source": [
    "#Drop NAN Values in Income\n",
    "data = data.dropna()\n",
    "data = data.dropna(subset=['Income'])"
   ],
   "id": "c022d7cd0ac3b469",
   "outputs": [],
   "execution_count": 107
  },
  {
   "metadata": {
    "ExecuteTime": {
     "end_time": "2024-06-22T12:52:19.348553Z",
     "start_time": "2024-06-22T12:52:19.345932Z"
    }
   },
   "cell_type": "code",
   "source": [
    "index_to_drop = data['Income'].idxmax()\n",
    "print (index_to_drop)\n",
    "# Drop the row with the highest income\n",
    "data.drop(index_to_drop, inplace=True)"
   ],
   "id": "a03011c00e8f7cb6",
   "outputs": [
    {
     "name": "stdout",
     "output_type": "stream",
     "text": [
      "2233\n"
     ]
    }
   ],
   "execution_count": 108
  },
  {
   "metadata": {
    "ExecuteTime": {
     "end_time": "2024-06-22T12:52:19.432449Z",
     "start_time": "2024-06-22T12:52:19.429677Z"
    }
   },
   "cell_type": "code",
   "source": [
    "# Drop rows with none sense input in Marital_Status\n",
    "indices_yolo = data[data['Marital_Status'] == 'YOLO'].index\n",
    "data = data.drop(indices_yolo)\n",
    "indices_absurd = data[data['Marital_Status'] == 'Absurd'].index\n",
    "data = data.drop(indices_absurd)"
   ],
   "id": "2e6072c6b9d37010",
   "outputs": [],
   "execution_count": 109
  },
  {
   "metadata": {},
   "cell_type": "markdown",
   "source": "**Data Preprocessing**",
   "id": "ee088f8148f64738"
  },
  {
   "metadata": {},
   "cell_type": "markdown",
   "source": [
    "#Coloumns to Preprocess:\n",
    "*  Martial_Status (Marek)\n",
    "*  Education (Marek)\n",
    "*  Year_Birth (last enrollment date) (Felix)\n",
    "\n",
    "\n",
    "#Encoding Object Coloumns: (Marek)\n",
    "\n",
    "#Scaling Features (Felix)\n",
    "\n",
    "#Feature Engineering\n",
    "* Living Alone/Living With someone - boolean (Felix)\n",
    "* Total Amount Spent (Marek)\n",
    "\n"
   ],
   "id": "b7ad1c35b78d5ac5"
  },
  {
   "metadata": {
    "ExecuteTime": {
     "end_time": "2024-06-22T12:52:19.681136Z",
     "start_time": "2024-06-22T12:52:19.679090Z"
    }
   },
   "cell_type": "code",
   "source": [
    "def get_unique(dataframe):\n",
    "  for column in df.columns:\n",
    "    unique_count = df[column].nunique()\n",
    "    print(f\"Number of unique values in column '{column}': {unique_count}\")\n"
   ],
   "id": "bd3bd30bcf57c313",
   "outputs": [],
   "execution_count": 110
  },
  {
   "metadata": {
    "ExecuteTime": {
     "end_time": "2024-06-22T12:52:19.767160Z",
     "start_time": "2024-06-22T12:52:19.762490Z"
    }
   },
   "cell_type": "code",
   "source": [
    "data['Dt_Customer'] = pd.to_datetime(data['Dt_Customer'], format='%d-%m-%Y')\n",
    "latest_date = data['Dt_Customer'].max()\n",
    "print(latest_date)"
   ],
   "id": "cd61ae850981a91",
   "outputs": [
    {
     "name": "stdout",
     "output_type": "stream",
     "text": [
      "2014-06-29 00:00:00\n"
     ]
    }
   ],
   "execution_count": 111
  },
  {
   "metadata": {
    "ExecuteTime": {
     "end_time": "2024-06-22T12:52:19.850713Z",
     "start_time": "2024-06-22T12:52:19.847267Z"
    }
   },
   "cell_type": "code",
   "source": [
    "#Preprocessing Dt_Customer to numerical format\n",
    "data['Dt_Customer'] = data['Dt_Customer'].apply(lambda x: x.toordinal())"
   ],
   "id": "f15a4d7bc85f9b8f",
   "outputs": [],
   "execution_count": 112
  },
  {
   "metadata": {
    "ExecuteTime": {
     "end_time": "2024-06-22T12:52:19.933895Z",
     "start_time": "2024-06-22T12:52:19.931752Z"
    }
   },
   "cell_type": "code",
   "source": [
    "# Preprocessing Year_Birth\n",
    "#The Year 2014 is the last included in the dataset -> we choose 2015 as base year\n",
    "data['Age']=2015-data['Year_Birth']"
   ],
   "id": "a0710e62bc0c69be",
   "outputs": [],
   "execution_count": 113
  },
  {
   "metadata": {
    "ExecuteTime": {
     "end_time": "2024-06-22T12:52:20.017400Z",
     "start_time": "2024-06-22T12:52:20.014651Z"
    }
   },
   "cell_type": "code",
   "source": [
    "indices_age = data[data['Age'] > 90].index\n",
    "print(indices_age)\n",
    "data = data.drop(indices_age)"
   ],
   "id": "15f77eaab26b9c9",
   "outputs": [
    {
     "name": "stdout",
     "output_type": "stream",
     "text": [
      "Index([192, 239, 339], dtype='int64')\n"
     ]
    }
   ],
   "execution_count": 114
  },
  {
   "metadata": {
    "ExecuteTime": {
     "end_time": "2024-06-22T12:52:20.101636Z",
     "start_time": "2024-06-22T12:52:20.098179Z"
    }
   },
   "cell_type": "code",
   "source": [
    "# Create numeric variables for categorical variables and summarize categories.\n",
    "data[\"Marital_Categories\"] = data[\"Marital_Status\"].replace({\"Single\":0, \"Alone\":0, \"Together\":1, \"Married\":1, \"Divorced\":0, \"Widow\":0})\n",
    "data[\"Edu_Categories\"] = data[\"Education\"].replace({\"Basic\":0, \"2n Cycle\":2, \"Graduation\":1, \"Master\":2, \"PhD\":3})"
   ],
   "id": "1f1bd8a05bf283a1",
   "outputs": [],
   "execution_count": 115
  },
  {
   "metadata": {
    "ExecuteTime": {
     "end_time": "2024-06-22T12:52:20.183485Z",
     "start_time": "2024-06-22T12:52:20.182013Z"
    }
   },
   "cell_type": "code",
   "source": [
    "# Summarize the amount spent on all products.\n",
    "#data[\"Spent_Total\"] = data[\"MntWines\"] + data[\"MntFruits\"] + data[\"MntMeatProducts\"] + data[\"MntFishProducts\"] + data[\"MntSweetProducts\"] + data[\"MntGoldProds\"]"
   ],
   "id": "e49aba3d47939dcc",
   "outputs": [],
   "execution_count": 116
  },
  {
   "metadata": {
    "ExecuteTime": {
     "end_time": "2024-06-22T12:52:20.271094Z",
     "start_time": "2024-06-22T12:52:20.267533Z"
    }
   },
   "cell_type": "code",
   "source": [
    "#creating feature \"Living_Alone\" as number\n",
    "data['Living_Alone'] = data['Marital_Status'].replace({\"Married\":1, \"Together\":1, \"Absurd\":0, \"Widow\":0, \"YOLO\":0, \"Divorced\":0, \"Single\":0, \"Alone\":0})\n",
    "data['Living_Alone'] = data['Living_Alone'] + data['Kidhome'] + data['Teenhome']\n",
    "data['Living_Alone'] = data['Living_Alone'].where(data['Living_Alone'] <= 1, 1)\n",
    "print(data['Living_Alone'].unique())"
   ],
   "id": "b646a71ebcc16778",
   "outputs": [
    {
     "name": "stdout",
     "output_type": "stream",
     "text": [
      "[0 1]\n"
     ]
    }
   ],
   "execution_count": 117
  },
  {
   "metadata": {
    "ExecuteTime": {
     "end_time": "2024-06-22T12:52:20.354400Z",
     "start_time": "2024-06-22T12:52:20.351862Z"
    }
   },
   "cell_type": "code",
   "source": [
    "#creating feature \"Having_Kids\" as boolean\n",
    "data['Having_Kids'] = data['Kidhome'] + data['Teenhome']\n",
    "data['Having_Kids'] = data['Having_Kids'].where(data['Having_Kids'] <= 1, 1)"
   ],
   "id": "c3b56f3029d7c171",
   "outputs": [],
   "execution_count": 118
  },
  {
   "metadata": {
    "ExecuteTime": {
     "end_time": "2024-06-22T12:52:20.436750Z",
     "start_time": "2024-06-22T12:52:20.434554Z"
    }
   },
   "cell_type": "code",
   "source": [
    "# Summarize the AcceptedOffer\n",
    "data['AcceptedOffer'] = data['Response'] + data['AcceptedCmp1'] + data['AcceptedCmp2'] + data['AcceptedCmp3'] + data['AcceptedCmp4'] + data['AcceptedCmp5']"
   ],
   "id": "362d272c37ff60c2",
   "outputs": [],
   "execution_count": 119
  },
  {
   "metadata": {
    "ExecuteTime": {
     "end_time": "2024-06-22T12:52:20.519844Z",
     "start_time": "2024-06-22T12:52:20.517944Z"
    }
   },
   "cell_type": "code",
   "source": "data['Total_Purchases'] = data['NumWebPurchases'] + data['NumCatalogPurchases'] + data['NumStorePurchases']",
   "id": "3c374d910d3c231d",
   "outputs": [],
   "execution_count": 120
  },
  {
   "metadata": {
    "ExecuteTime": {
     "end_time": "2024-06-22T12:52:20.606754Z",
     "start_time": "2024-06-22T12:52:20.604875Z"
    }
   },
   "cell_type": "code",
   "source": "print(data['AcceptedOffer'].unique())",
   "id": "7e13ae559908fedf",
   "outputs": [
    {
     "name": "stdout",
     "output_type": "stream",
     "text": [
      "[1 0 3 2 4 5]\n"
     ]
    }
   ],
   "execution_count": 121
  },
  {
   "metadata": {},
   "cell_type": "markdown",
   "source": "'Z_CostContact' & Z_Revenue' only have one value, so we can drop the columns.",
   "id": "cf63d130cebb1f80"
  },
  {
   "metadata": {
    "ExecuteTime": {
     "end_time": "2024-06-22T12:52:20.771153Z",
     "start_time": "2024-06-22T12:52:20.769109Z"
    }
   },
   "cell_type": "code",
   "source": [
    "columns_to_drop = ['Z_CostContact', 'Z_Revenue']\n",
    "data = data.drop(columns=columns_to_drop)"
   ],
   "id": "fd2afe95866f7782",
   "outputs": [],
   "execution_count": 122
  },
  {
   "metadata": {},
   "cell_type": "markdown",
   "source": "#Drop redundant features",
   "id": "6d57ff860e706963"
  },
  {
   "metadata": {
    "ExecuteTime": {
     "end_time": "2024-06-22T12:52:20.936336Z",
     "start_time": "2024-06-22T12:52:20.934817Z"
    }
   },
   "cell_type": "code",
   "source": "#outliersSpent = detect_outliers_iqr(data, 'Spent_Total')",
   "id": "7ec3b655114b97d7",
   "outputs": [],
   "execution_count": 123
  },
  {
   "metadata": {
    "ExecuteTime": {
     "end_time": "2024-06-22T12:52:21.021961Z",
     "start_time": "2024-06-22T12:52:21.020401Z"
    }
   },
   "cell_type": "code",
   "source": [
    "#print(outliersSpent)\n",
    "#values = data.loc[outliersSpent, 'Spent_Total']\n",
    "#print(values)"
   ],
   "id": "6bbc44248fabc795",
   "outputs": [],
   "execution_count": 124
  },
  {
   "metadata": {
    "ExecuteTime": {
     "end_time": "2024-06-22T12:52:21.106794Z",
     "start_time": "2024-06-22T12:52:21.104978Z"
    }
   },
   "cell_type": "code",
   "source": [
    "# Drop the row with the outliers Spent total\n",
    "#data.drop(outliersSpent, inplace=True)"
   ],
   "id": "9df2ba6ed41bf6d9",
   "outputs": [],
   "execution_count": 125
  },
  {
   "metadata": {
    "ExecuteTime": {
     "end_time": "2024-06-22T12:52:21.190827Z",
     "start_time": "2024-06-22T12:52:21.187519Z"
    }
   },
   "cell_type": "code",
   "source": [
    "#Year_Birth and Age are redundant\n",
    "#Education and Edu_Categories are redundant\n",
    "#We will use Kids_Home instead of TeenHome and Kidhome\n",
    "#Living_Alone instead of Marital_Status \n",
    "#columns_to_drop = ['Year_Birth', 'Education', 'Kidhome', 'Teenhome', 'Marital_Status']\n",
    "columns_to_drop = ['Year_Birth', 'Education', 'Kidhome', 'Teenhome', 'Marital_Status',\n",
    "            'NumWebPurchases', 'NumCatalogPurchases', 'NumStorePurchases']\n",
    "#columns_to_drop = ['Year_Birth', 'Education', 'Marital_Status']\n",
    "data = data.drop(columns=columns_to_drop)\n",
    "#drop columns so its not overvalued in the algorithm\n",
    "columns_to_drop = ['Response', 'AcceptedCmp1', 'AcceptedCmp2', 'AcceptedCmp3', 'AcceptedCmp4', 'AcceptedCmp5']\n",
    "data = data.drop(columns=columns_to_drop)"
   ],
   "id": "38898572888441d3",
   "outputs": [],
   "execution_count": 126
  },
  {
   "metadata": {
    "ExecuteTime": {
     "end_time": "2024-06-22T12:52:21.276969Z",
     "start_time": "2024-06-22T12:52:21.272184Z"
    }
   },
   "cell_type": "code",
   "source": "data.head()",
   "id": "b8ba662f7e336086",
   "outputs": [
    {
     "data": {
      "text/plain": [
       "     ID   Income  Dt_Customer  Recency  MntWines  MntFruits  MntMeatProducts  \\\n",
       "0  5524  58138.0       734750       58       635         88              546   \n",
       "1  2174  46344.0       735300       38        11          1                6   \n",
       "2  4141  71613.0       735101       26       426         49              127   \n",
       "3  6182  26646.0       735274       26        11          4               20   \n",
       "4  5324  58293.0       735252       94       173         43              118   \n",
       "\n",
       "   MntFishProducts  MntSweetProducts  MntGoldProds  NumDealsPurchases  \\\n",
       "0              172                88            88                  3   \n",
       "1                2                 1             6                  2   \n",
       "2              111                21            42                  1   \n",
       "3               10                 3             5                  2   \n",
       "4               46                27            15                  5   \n",
       "\n",
       "   NumWebVisitsMonth  Complain  Age Marital_Categories Edu_Categories  \\\n",
       "0                  7         0   58                  0              1   \n",
       "1                  5         0   61                  0              1   \n",
       "2                  4         0   50                  1              1   \n",
       "3                  6         0   31                  1              1   \n",
       "4                  5         0   34                  1              3   \n",
       "\n",
       "  Living_Alone  Having_Kids  AcceptedOffer  Total_Purchases  \n",
       "0            0            0              1               22  \n",
       "1            1            1              0                4  \n",
       "2            1            0              0               20  \n",
       "3            1            1              0                6  \n",
       "4            1            1              0               14  "
      ],
      "text/html": [
       "<div>\n",
       "<style scoped>\n",
       "    .dataframe tbody tr th:only-of-type {\n",
       "        vertical-align: middle;\n",
       "    }\n",
       "\n",
       "    .dataframe tbody tr th {\n",
       "        vertical-align: top;\n",
       "    }\n",
       "\n",
       "    .dataframe thead th {\n",
       "        text-align: right;\n",
       "    }\n",
       "</style>\n",
       "<table border=\"1\" class=\"dataframe\">\n",
       "  <thead>\n",
       "    <tr style=\"text-align: right;\">\n",
       "      <th></th>\n",
       "      <th>ID</th>\n",
       "      <th>Income</th>\n",
       "      <th>Dt_Customer</th>\n",
       "      <th>Recency</th>\n",
       "      <th>MntWines</th>\n",
       "      <th>MntFruits</th>\n",
       "      <th>MntMeatProducts</th>\n",
       "      <th>MntFishProducts</th>\n",
       "      <th>MntSweetProducts</th>\n",
       "      <th>MntGoldProds</th>\n",
       "      <th>NumDealsPurchases</th>\n",
       "      <th>NumWebVisitsMonth</th>\n",
       "      <th>Complain</th>\n",
       "      <th>Age</th>\n",
       "      <th>Marital_Categories</th>\n",
       "      <th>Edu_Categories</th>\n",
       "      <th>Living_Alone</th>\n",
       "      <th>Having_Kids</th>\n",
       "      <th>AcceptedOffer</th>\n",
       "      <th>Total_Purchases</th>\n",
       "    </tr>\n",
       "  </thead>\n",
       "  <tbody>\n",
       "    <tr>\n",
       "      <th>0</th>\n",
       "      <td>5524</td>\n",
       "      <td>58138.0</td>\n",
       "      <td>734750</td>\n",
       "      <td>58</td>\n",
       "      <td>635</td>\n",
       "      <td>88</td>\n",
       "      <td>546</td>\n",
       "      <td>172</td>\n",
       "      <td>88</td>\n",
       "      <td>88</td>\n",
       "      <td>3</td>\n",
       "      <td>7</td>\n",
       "      <td>0</td>\n",
       "      <td>58</td>\n",
       "      <td>0</td>\n",
       "      <td>1</td>\n",
       "      <td>0</td>\n",
       "      <td>0</td>\n",
       "      <td>1</td>\n",
       "      <td>22</td>\n",
       "    </tr>\n",
       "    <tr>\n",
       "      <th>1</th>\n",
       "      <td>2174</td>\n",
       "      <td>46344.0</td>\n",
       "      <td>735300</td>\n",
       "      <td>38</td>\n",
       "      <td>11</td>\n",
       "      <td>1</td>\n",
       "      <td>6</td>\n",
       "      <td>2</td>\n",
       "      <td>1</td>\n",
       "      <td>6</td>\n",
       "      <td>2</td>\n",
       "      <td>5</td>\n",
       "      <td>0</td>\n",
       "      <td>61</td>\n",
       "      <td>0</td>\n",
       "      <td>1</td>\n",
       "      <td>1</td>\n",
       "      <td>1</td>\n",
       "      <td>0</td>\n",
       "      <td>4</td>\n",
       "    </tr>\n",
       "    <tr>\n",
       "      <th>2</th>\n",
       "      <td>4141</td>\n",
       "      <td>71613.0</td>\n",
       "      <td>735101</td>\n",
       "      <td>26</td>\n",
       "      <td>426</td>\n",
       "      <td>49</td>\n",
       "      <td>127</td>\n",
       "      <td>111</td>\n",
       "      <td>21</td>\n",
       "      <td>42</td>\n",
       "      <td>1</td>\n",
       "      <td>4</td>\n",
       "      <td>0</td>\n",
       "      <td>50</td>\n",
       "      <td>1</td>\n",
       "      <td>1</td>\n",
       "      <td>1</td>\n",
       "      <td>0</td>\n",
       "      <td>0</td>\n",
       "      <td>20</td>\n",
       "    </tr>\n",
       "    <tr>\n",
       "      <th>3</th>\n",
       "      <td>6182</td>\n",
       "      <td>26646.0</td>\n",
       "      <td>735274</td>\n",
       "      <td>26</td>\n",
       "      <td>11</td>\n",
       "      <td>4</td>\n",
       "      <td>20</td>\n",
       "      <td>10</td>\n",
       "      <td>3</td>\n",
       "      <td>5</td>\n",
       "      <td>2</td>\n",
       "      <td>6</td>\n",
       "      <td>0</td>\n",
       "      <td>31</td>\n",
       "      <td>1</td>\n",
       "      <td>1</td>\n",
       "      <td>1</td>\n",
       "      <td>1</td>\n",
       "      <td>0</td>\n",
       "      <td>6</td>\n",
       "    </tr>\n",
       "    <tr>\n",
       "      <th>4</th>\n",
       "      <td>5324</td>\n",
       "      <td>58293.0</td>\n",
       "      <td>735252</td>\n",
       "      <td>94</td>\n",
       "      <td>173</td>\n",
       "      <td>43</td>\n",
       "      <td>118</td>\n",
       "      <td>46</td>\n",
       "      <td>27</td>\n",
       "      <td>15</td>\n",
       "      <td>5</td>\n",
       "      <td>5</td>\n",
       "      <td>0</td>\n",
       "      <td>34</td>\n",
       "      <td>1</td>\n",
       "      <td>3</td>\n",
       "      <td>1</td>\n",
       "      <td>1</td>\n",
       "      <td>0</td>\n",
       "      <td>14</td>\n",
       "    </tr>\n",
       "  </tbody>\n",
       "</table>\n",
       "</div>"
      ]
     },
     "execution_count": 127,
     "metadata": {},
     "output_type": "execute_result"
    }
   ],
   "execution_count": 127
  },
  {
   "metadata": {
    "ExecuteTime": {
     "end_time": "2024-06-22T12:52:21.362265Z",
     "start_time": "2024-06-22T12:52:21.360322Z"
    }
   },
   "cell_type": "code",
   "source": [
    "def download_dataframe_as_csv(data):\n",
    "    downloads_folder = os.path.expanduser(\"~/Downloads\")\n",
    "    # Generate a timestamp\n",
    "    timestamp = datetime.now().strftime(\"%Y-%m-%d_%H-%M-%S\")\n",
    "    \n",
    "    file_name = f\"{timestamp}_unscaled_*.csv\"\n",
    "    file_path = os.path.join(downloads_folder, file_name)\n",
    "    # Save the DataFrame as a CSV file\n",
    "    data.to_csv(file_path, sep='\\t', index=False)\n",
    "    \n",
    "    print(\"DataFrame has been saved as '{timestamp}_feature_unscaled.csv' in the Downloads folder.\")"
   ],
   "id": "86f19b9ecc12fad6",
   "outputs": [],
   "execution_count": 128
  },
  {
   "metadata": {
    "ExecuteTime": {
     "end_time": "2024-06-22T12:52:21.446050Z",
     "start_time": "2024-06-22T12:52:21.438768Z"
    }
   },
   "cell_type": "code",
   "source": "download_dataframe_as_csv(data)",
   "id": "ae8ee7f07ec4aecd",
   "outputs": [
    {
     "name": "stdout",
     "output_type": "stream",
     "text": [
      "DataFrame has been saved as '{timestamp}_feature_unscaled.csv' in the Downloads folder.\n"
     ]
    }
   ],
   "execution_count": 129
  }
 ],
 "metadata": {
  "kernelspec": {
   "display_name": "Python 3",
   "language": "python",
   "name": "python3"
  },
  "language_info": {
   "codemirror_mode": {
    "name": "ipython",
    "version": 2
   },
   "file_extension": ".py",
   "mimetype": "text/x-python",
   "name": "python",
   "nbconvert_exporter": "python",
   "pygments_lexer": "ipython2",
   "version": "2.7.6"
  }
 },
 "nbformat": 4,
 "nbformat_minor": 5
}
